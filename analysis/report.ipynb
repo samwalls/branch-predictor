{
 "cells": [
  {
   "cell_type": "markdown",
   "metadata": {},
   "source": [
    "# CS4202 Computer Architecture - Branch Prediction - Report"
   ]
  },
  {
   "cell_type": "markdown",
   "metadata": {},
   "source": [
    "### Utility Functions & Setup"
   ]
  },
  {
   "cell_type": "code",
   "execution_count": 1,
   "metadata": {},
   "outputs": [],
   "source": [
    "%load_ext autoreload\n",
    "%autoreload 2"
   ]
  },
  {
   "cell_type": "markdown",
   "metadata": {},
   "source": [
    "## Analysis"
   ]
  },
  {
   "cell_type": "code",
   "execution_count": 2,
   "metadata": {},
   "outputs": [
    {
     "data": {
      "text/plain": [
       "0.49583794904257"
      ]
     },
     "execution_count": 2,
     "metadata": {},
     "output_type": "execute_result"
    }
   ],
   "source": [
    "from predictor import import_data, AlwaysPredictor\n",
    "data = import_data('data/branchtrace.out')\n",
    "predictor = AlwaysPredictor(data=data, always_taken=False)\n",
    "predictor.predict_all()\n",
    "accuracy = predictor.analyse_total_accuracy()\n",
    "accuracy"
   ]
  },
  {
   "cell_type": "code",
   "execution_count": 39,
   "metadata": {},
   "outputs": [
    {
     "data": {
      "text/plain": [
       "0.8846969457192594"
      ]
     },
     "execution_count": 39,
     "metadata": {},
     "output_type": "execute_result"
    }
   ],
   "source": [
    "from predictor import import_data, SaturationPredictor\n",
    "data = import_data('data/branchtrace.out')\n",
    "predictor = SaturationPredictor(data=data, n_bits=2)\n",
    "predictor.predict_all()\n",
    "accuracy = predictor.analyse_total_accuracy()\n",
    "accuracy"
   ]
  },
  {
   "cell_type": "code",
   "execution_count": 48,
   "metadata": {},
   "outputs": [
    {
     "data": {
      "text/plain": [
       "0.8601993986390252"
      ]
     },
     "execution_count": 48,
     "metadata": {},
     "output_type": "execute_result"
    }
   ],
   "source": [
    "from predictor import import_data, GSharePredictor\n",
    "data = import_data('data/branchtrace.out')\n",
    "predictor = GSharePredictor(data=data, n_bits=2, addr_bits=16)\n",
    "predictor.predict_all()\n",
    "accuracy = predictor.analyse_total_accuracy()\n",
    "accuracy"
   ]
  },
  {
   "cell_type": "code",
   "execution_count": 76,
   "metadata": {},
   "outputs": [
    {
     "data": {
      "text/plain": [
       "0.8802546240691809"
      ]
     },
     "execution_count": 76,
     "metadata": {},
     "output_type": "execute_result"
    }
   ],
   "source": [
    "from predictor import import_data, ProfilerPredictor\n",
    "training_data = import_data('../pin/echo_trace/size_1000_trace_4.out')\n",
    "data = import_data('../pin/echo_trace/size_1000_trace_1.out')\n",
    "predictor = ProfilerPredictor(data=data)\n",
    "predictor.train(training_data)\n",
    "predictor.predict_all()\n",
    "accuracy = predictor.analyse_total_accuracy()\n",
    "accuracy"
   ]
  },
  {
   "cell_type": "code",
   "execution_count": 89,
   "metadata": {},
   "outputs": [
    {
     "data": {
      "text/plain": [
       "0.9633677636319962"
      ]
     },
     "execution_count": 89,
     "metadata": {},
     "output_type": "execute_result"
    }
   ],
   "source": [
    "from predictor import import_data, NgramProfilerPredictor\n",
    "training_data = import_data('../pin/echo_trace/size_1000_trace_4.out')\n",
    "data = import_data('../pin/echo_trace/size_1_trace_1.out')\n",
    "predictor = NgramProfilerPredictor(data=data, n=16)\n",
    "predictor.train(training_data)\n",
    "predictor.predict_all()\n",
    "accuracy = predictor.analyse_total_accuracy()\n",
    "accuracy"
   ]
  },
  {
   "cell_type": "code",
   "execution_count": null,
   "metadata": {},
   "outputs": [],
   "source": []
  }
 ],
 "metadata": {
  "kernelspec": {
   "display_name": "Python 3",
   "language": "python",
   "name": "python3"
  },
  "language_info": {
   "codemirror_mode": {
    "name": "ipython",
    "version": 3
   },
   "file_extension": ".py",
   "mimetype": "text/x-python",
   "name": "python",
   "nbconvert_exporter": "python",
   "pygments_lexer": "ipython3",
   "version": "3.7.0"
  }
 },
 "nbformat": 4,
 "nbformat_minor": 2
}
