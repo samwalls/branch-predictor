{
 "cells": [
  {
   "cell_type": "markdown",
   "metadata": {},
   "source": [
    "# CS4202 Computer Architecture - Branch Prediction - Report"
   ]
  },
  {
   "cell_type": "markdown",
   "metadata": {},
   "source": [
    "### Utility Functions & Setup"
   ]
  },
  {
   "cell_type": "code",
   "execution_count": null,
   "metadata": {},
   "outputs": [],
   "source": [
    "%load_ext autoreload\n",
    "%autoreload 2"
   ]
  },
  {
   "cell_type": "markdown",
   "metadata": {},
   "source": [
    "## Analysis"
   ]
  },
  {
   "cell_type": "code",
   "execution_count": null,
   "metadata": {},
   "outputs": [],
   "source": [
    "from predictor import import_data, AlwaysPredictor\n",
    "data = import_data('data/branchtrace.out')\n",
    "predictor = AlwaysPredictor(data, always_taken=False)\n",
    "predictor.predict_all()\n",
    "accuracy = predictor.analyse_total_accuracy()\n",
    "accuracy"
   ]
  },
  {
   "cell_type": "code",
   "execution_count": null,
   "metadata": {},
   "outputs": [],
   "source": [
    "from predictor import import_data, SaturationPredictor\n",
    "data = import_data('data/branchtrace.out')\n",
    "predictor = SaturationPredictor(data, n_bits=2, table_size=512)\n",
    "predictor.predict_all()\n",
    "accuracy = predictor.analyse_total_accuracy()\n",
    "accuracy"
   ]
  },
  {
   "cell_type": "code",
   "execution_count": null,
   "metadata": {},
   "outputs": [],
   "source": [
    "from predictor import import_data, GSharePredictor\n",
    "data = import_data('data/branchtrace.out')\n",
    "predictor = GSharePredictor(data, n_bits=2, table_size=512, addr_bits=32)\n",
    "predictor.predict_all()\n",
    "accuracy = predictor.analyse_total_accuracy()\n",
    "accuracy"
   ]
  },
  {
   "cell_type": "code",
   "execution_count": null,
   "metadata": {},
   "outputs": [],
   "source": []
  }
 ],
 "metadata": {
  "kernelspec": {
   "display_name": "Python 3",
   "language": "python",
   "name": "python3"
  },
  "language_info": {
   "codemirror_mode": {
    "name": "ipython",
    "version": 3
   },
   "file_extension": ".py",
   "mimetype": "text/x-python",
   "name": "python",
   "nbconvert_exporter": "python",
   "pygments_lexer": "ipython3",
   "version": "3.7.0"
  }
 },
 "nbformat": 4,
 "nbformat_minor": 2
}
